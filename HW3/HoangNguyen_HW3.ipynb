{
 "cells": [
  {
   "cell_type": "code",
   "execution_count": 7,
   "id": "4c3991c6",
   "metadata": {},
   "outputs": [],
   "source": [
    "\n",
    "import sympy as sp\n",
    "from sympy import Function, symbols, diff\n",
    "#===============================================\n",
    "#     1. Define Symbols and the Generalized Coordinate \n",
    "#===============================================\n",
    "t = symbols('t')\n",
    "m, k, R, omega = symbols('m k R omega', positive=True)\n",
    "u = Function('u')(t)\n",
    "\n",
    "u_dot = diff(u, t)\n",
    "u_ddot = diff(u_dot, t)\n",
    "#===============================================\n",
    "#     2. Define Kinetic and Potential Energy \n",
    "#===============================================\n",
    "\n",
    "T = sp.Rational(1, 2) * m * (u_dot**2 + u**2 * omega**2)\n",
    "V = sp.Rational(1, 2) * k * (u)**2\n",
    "L = T - V\n",
    "#===============================================\n",
    "#     3. Define the Lagrangian \n",
    "#===============================================\n",
    "L = T - V\n",
    "#===============================================\n",
    "#     4. Lagrange's Equation \n",
    "#===============================================\n",
    "dL_du_dot = diff(L, u_dot)\n",
    "d_dt_dL_du_dot = diff(dL_du_dot, t)\n",
    "dL_du = diff(L, u)\n",
    "\n",
    "# Lagrange's Equation of Motion (EOM)\n",
    "EOM = d_dt_dL_du_dot - dL_du\n",
    "#===============================================\n",
    "#     5. Simplify and Display Result\n",
    "#===============================================\n",
    "EOM_simplified = EOM.subs(u_ddot, symbols('u_ddot'))\n",
    "EOM_simplified = sp.simplify(EOM_simplified)\n",
    "EOM_final = sp.Eq(EOM_simplified, 0)\n",
    "EOM_rearranged = sp.Eq(m * u_ddot + (k - m * omega**2) * u,0)"
   ]
  },
  {
   "cell_type": "code",
   "execution_count": 8,
   "id": "6a18023c",
   "metadata": {},
   "outputs": [
    {
     "data": {
      "text/latex": [
       "$\\displaystyle \\frac{m \\left(\\omega^{2} u^{2}{\\left(t \\right)} + \\left(\\frac{d}{d t} u{\\left(t \\right)}\\right)^{2}\\right)}{2}$"
      ],
      "text/plain": [
       "m*(omega**2*u(t)**2 + Derivative(u(t), t)**2)/2"
      ]
     },
     "execution_count": 8,
     "metadata": {},
     "output_type": "execute_result"
    }
   ],
   "source": [
    "T"
   ]
  },
  {
   "cell_type": "code",
   "execution_count": 9,
   "id": "f15682c6",
   "metadata": {},
   "outputs": [
    {
     "data": {
      "text/latex": [
       "$\\displaystyle \\frac{k u^{2}{\\left(t \\right)}}{2}$"
      ],
      "text/plain": [
       "k*u(t)**2/2"
      ]
     },
     "execution_count": 9,
     "metadata": {},
     "output_type": "execute_result"
    }
   ],
   "source": [
    "V"
   ]
  },
  {
   "cell_type": "code",
   "execution_count": 10,
   "id": "a17ed773",
   "metadata": {},
   "outputs": [
    {
     "data": {
      "text/latex": [
       "$\\displaystyle - \\frac{k u^{2}{\\left(t \\right)}}{2} + \\frac{m \\left(\\omega^{2} u^{2}{\\left(t \\right)} + \\left(\\frac{d}{d t} u{\\left(t \\right)}\\right)^{2}\\right)}{2}$"
      ],
      "text/plain": [
       "-k*u(t)**2/2 + m*(omega**2*u(t)**2 + Derivative(u(t), t)**2)/2"
      ]
     },
     "execution_count": 10,
     "metadata": {},
     "output_type": "execute_result"
    }
   ],
   "source": [
    "L"
   ]
  },
  {
   "cell_type": "code",
   "execution_count": 11,
   "id": "4f0b1bfa",
   "metadata": {},
   "outputs": [
    {
     "data": {
      "text/latex": [
       "$\\displaystyle k u{\\left(t \\right)} - m \\omega^{2} u{\\left(t \\right)} + m u_{\\dot{d}} = 0$"
      ],
      "text/plain": [
       "Eq(k*u(t) - m*omega**2*u(t) + m*u_ddot, 0)"
      ]
     },
     "execution_count": 11,
     "metadata": {},
     "output_type": "execute_result"
    }
   ],
   "source": [
    "EOM_final"
   ]
  },
  {
   "cell_type": "code",
   "execution_count": null,
   "id": "0c7deffb",
   "metadata": {},
   "outputs": [],
   "source": []
  },
  {
   "cell_type": "code",
   "execution_count": 12,
   "id": "61445777",
   "metadata": {},
   "outputs": [
    {
     "data": {
      "text/latex": [
       "$\\displaystyle m \\frac{d^{2}}{d t^{2}} u{\\left(t \\right)} + \\left(k - m \\omega^{2}\\right) u{\\left(t \\right)} = 0$"
      ],
      "text/plain": [
       "Eq(m*Derivative(u(t), (t, 2)) + (k - m*omega**2)*u(t), 0)"
      ]
     },
     "execution_count": 12,
     "metadata": {},
     "output_type": "execute_result"
    }
   ],
   "source": [
    "EOM_rearranged"
   ]
  }
 ],
 "metadata": {
  "kernelspec": {
   "display_name": "Python 3",
   "language": "python",
   "name": "python3"
  },
  "language_info": {
   "codemirror_mode": {
    "name": "ipython",
    "version": 3
   },
   "file_extension": ".py",
   "mimetype": "text/x-python",
   "name": "python",
   "nbconvert_exporter": "python",
   "pygments_lexer": "ipython3",
   "version": "3.13.7"
  }
 },
 "nbformat": 4,
 "nbformat_minor": 5
}
